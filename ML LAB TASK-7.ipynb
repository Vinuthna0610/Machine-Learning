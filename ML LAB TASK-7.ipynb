{
 "cells": [
  {
   "cell_type": "code",
   "execution_count": 1,
   "id": "b1da445a",
   "metadata": {},
   "outputs": [
    {
     "name": "stdout",
     "output_type": "stream",
     "text": [
      "Sample Vector: [[0.69401737 0.44205247 0.11994338 0.08865997 0.31086373 0.43871252\n",
      "  0.11284859 0.34318291 0.85334886 0.46731457]]\n",
      "Mean: 0.3870944383122842\n",
      "Variance: 0.05670978979255773\n"
     ]
    }
   ],
   "source": [
    "\"\"\"1. Create a vector (array) of 1XN dimension representing N-\n",
    "dimensional feature vector of a sample. Write a program to\n",
    "\n",
    "compute the mean and variance of the elements present in the\n",
    "array.\"\"\"\n",
    "import numpy as np\n",
    "\n",
    "def compute_mean_variance(vector):\n",
    "    mean = np.mean(vector)\n",
    "    variance = np.var(vector)\n",
    "    return mean, variance\n",
    "\n",
    "# Example vector creation\n",
    "N = 10  # Define the dimensionality of the vector\n",
    "sample_vector = np.random.rand(1, N)  # Creating a random vector of shape 1xN\n",
    "\n",
    "# Compute mean and variance\n",
    "mean, variance = compute_mean_variance(sample_vector)\n",
    "\n",
    "print(\"Sample Vector:\", sample_vector)\n",
    "print(\"Mean:\", mean)\n",
    "print(\"Variance:\", variance)"
   ]
  },
  {
   "cell_type": "code",
   "execution_count": 2,
   "id": "50713113",
   "metadata": {},
   "outputs": [
    {
     "name": "stdout",
     "output_type": "stream",
     "text": [
      "Sample Vector 1: [[0.87000271 0.02114919 0.29856317 0.36521721 0.95250679]]\n",
      "Sample Vector 2: [[0.77858346 0.65305924 0.18884423 0.9364002  0.5190719 ]]\n",
      "Covariance between vectors: 0.010354084403648016\n"
     ]
    }
   ],
   "source": [
    "\"\"\"2. Create two vectors each of dimension 1XM each representing N-\n",
    "dimensional feature vector of a sample. Write a program to\n",
    "compute the Covariance between them.\"\"\"\n",
    "\n",
    "import numpy as np\n",
    "\n",
    "def compute_covariance(vector1, vector2):\n",
    "    covariance_matrix = np.cov(vector1, vector2)\n",
    "    covariance = covariance_matrix[0, 1]  # Extracting the covariance value from the covariance matrix\n",
    "    return covariance\n",
    "\n",
    "# Example vectors creation\n",
    "M = 5  # Define the dimensionality of the vectors\n",
    "sample_vector1 = np.random.rand(1, M)  # Creating a random vector of shape 1xM\n",
    "sample_vector2 = np.random.rand(1, M)  # Creating another random vector of shape 1xM\n",
    "\n",
    "# Compute covariance\n",
    "covariance = compute_covariance(sample_vector1, sample_vector2)\n",
    "\n",
    "print(\"Sample Vector 1:\", sample_vector1)\n",
    "print(\"Sample Vector 2:\", sample_vector2)\n",
    "print(\"Covariance between vectors:\", covariance)"
   ]
  },
  {
   "cell_type": "code",
   "execution_count": 3,
   "id": "b43983ad",
   "metadata": {},
   "outputs": [
    {
     "name": "stdout",
     "output_type": "stream",
     "text": [
      "Correlation between the two vectors: -0.9999999999999998\n"
     ]
    }
   ],
   "source": [
    "\"\"\"3.Create two vectors each of dimension 1XN. Write a program to\n",
    "compute the Correlation between them.\"\"\"\n",
    "import numpy as np\n",
    "\n",
    "# Function to compute correlation\n",
    "def compute_correlation(vector1, vector2):\n",
    "    # Compute means\n",
    "    mean1 = np.mean(vector1)\n",
    "    mean2 = np.mean(vector2)\n",
    "    \n",
    "    # Compute standard deviations\n",
    "    std_dev1 = np.std(vector1)\n",
    "    std_dev2 = np.std(vector2)\n",
    "    \n",
    "    # Compute covariance\n",
    "    covariance = np.mean((vector1 - mean1) * (vector2 - mean2))\n",
    "    \n",
    "    # Compute correlation\n",
    "    correlation = covariance / (std_dev1 * std_dev2)\n",
    "    \n",
    "    return correlation\n",
    "\n",
    "# Example vectors (replace these with your own vectors)\n",
    "vector1 = np.array([1, 2, 3, 4, 5])\n",
    "vector2 = np.array([5, 4, 3, 2, 1])\n",
    "\n",
    "# Compute correlation\n",
    "corr = compute_correlation(vector1, vector2)\n",
    "print(\"Correlation between the two vectors:\", corr)"
   ]
  },
  {
   "cell_type": "code",
   "execution_count": 4,
   "id": "67859543",
   "metadata": {},
   "outputs": [
    {
     "name": "stdout",
     "output_type": "stream",
     "text": [
      "Covariance Matrix:\n",
      "[[1. 1. 1.]\n",
      " [1. 1. 1.]\n",
      " [1. 1. 1.]]\n",
      "\n",
      "Correlation Matrix:\n",
      "[[1. 1. 1.]\n",
      " [1. 1. 1.]\n",
      " [1. 1. 1.]]\n"
     ]
    }
   ],
   "source": [
    "\"\"\"4.Create a Matrix of MXN dimension representing the M-dimensional\n",
    "feature vector for N number of samples i. e (i,j)th entry of the matrix\n",
    "represents the ith feature of jth sample. Write a program to compute\n",
    "the covariance matrix and correlation matrix. Comment on\n",
    "takeaways from these matrixes.\"\"\"\n",
    "\n",
    "import numpy as np\n",
    "\n",
    "# Function to compute covariance matrix\n",
    "def compute_covariance_matrix(matrix):\n",
    "    return np.cov(matrix)\n",
    "\n",
    "# Function to compute correlation matrix\n",
    "def compute_correlation_matrix(matrix):\n",
    "    return np.corrcoef(matrix)\n",
    "\n",
    "# Example matrix (replace this with your own matrix)\n",
    "matrix = np.array([[1, 2, 3], [4, 5, 6], [7, 8, 9]])\n",
    "\n",
    "# Compute covariance matrix\n",
    "cov_matrix = compute_covariance_matrix(matrix)\n",
    "print(\"Covariance Matrix:\")\n",
    "print(cov_matrix)\n",
    "\n",
    "# Compute correlation matrix\n",
    "corr_matrix = compute_correlation_matrix(matrix)\n",
    "print(\"\\nCorrelation Matrix:\")\n",
    "print(corr_matrix)"
   ]
  },
  {
   "cell_type": "code",
   "execution_count": null,
   "id": "2050e703",
   "metadata": {},
   "outputs": [],
   "source": []
  }
 ],
 "metadata": {
  "kernelspec": {
   "display_name": "Python 3 (ipykernel)",
   "language": "python",
   "name": "python3"
  },
  "language_info": {
   "codemirror_mode": {
    "name": "ipython",
    "version": 3
   },
   "file_extension": ".py",
   "mimetype": "text/x-python",
   "name": "python",
   "nbconvert_exporter": "python",
   "pygments_lexer": "ipython3",
   "version": "3.9.13"
  }
 },
 "nbformat": 4,
 "nbformat_minor": 5
}
